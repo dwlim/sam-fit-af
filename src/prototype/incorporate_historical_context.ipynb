{
 "cells": [
  {
   "cell_type": "code",
   "execution_count": 1,
   "metadata": {},
   "outputs": [
    {
     "name": "stderr",
     "output_type": "stream",
     "text": [
      "/Users/ericchuu/fit-af/.venv/lib/python3.9/site-packages/urllib3/__init__.py:35: NotOpenSSLWarning: urllib3 v2 only supports OpenSSL 1.1.1+, currently the 'ssl' module is compiled with 'LibreSSL 2.8.3'. See: https://github.com/urllib3/urllib3/issues/3020\n",
      "  warnings.warn(\n"
     ]
    }
   ],
   "source": [
    "import os\n",
    "os.chdir('/Users/ericchuu/fit-af/src')\n",
    "from dotenv import load_dotenv\n",
    "from athlete.Athlete import Athlete\n",
    "# Load credentials from .env file\n",
    "load_dotenv()\n",
    "email = os.getenv('GARMIN_EMAIL')\n",
    "password = os.getenv('GARMIN_PASSWORD')\n",
    "intervals_icu_id = os.getenv('INTERVALS_ICU_ID')\n",
    "training_plan_dir = \"/Users/ericchuu/training_plan\"\n",
    "\n",
    "import json\n",
    "\n",
    "user_prompt = '''\n",
    "{\n",
    "  \"sex\": \"male\",\n",
    "  \"age\": 28,\n",
    "  \"goal_event\": {\n",
    "    \"event\": 5000,\n",
    "    \"goal_time\": {\n",
    "      \"hours\": 0,\n",
    "      \"minutes\": 18,\n",
    "      \"seconds\": 0\n",
    "    }\n",
    "  },\n",
    "  \"timeline_weeks\": 2,\n",
    "  \"recent_time_trial\": {\n",
    "    \"event\": 5000,\n",
    "    \"hours\": 0,\n",
    "    \"minutes\": 20,\n",
    "    \"seconds\": 0\n",
    "  },\n",
    "  \"training_days_per_week\": 4,\n",
    "  \"start_date\": \"2025-02-10\"\n",
    "}\n",
    "'''\n",
    "user_data = json.loads(user_prompt)\n",
    "\n",
    "athlete = Athlete(\n",
    "    user_id=1,\n",
    "    email=email,\n",
    "    password=password,\n",
    "    intervals_icu_id=intervals_icu_id,\n",
    "    training_plan_input=user_data,\n",
    "    training_plan_dir=training_plan_dir\n",
    "  )\n"
   ]
  },
  {
   "cell_type": "code",
   "execution_count": 2,
   "metadata": {},
   "outputs": [],
   "source": [
    "# fetch activities from last 30 days and write to activities db\n",
    "athlete.fetch_historical_activities()"
   ]
  },
  {
   "cell_type": "code",
   "execution_count": 3,
   "metadata": {},
   "outputs": [
    {
     "name": "stdout",
     "output_type": "stream",
     "text": [
      "   activity_id   activity_type      duration       distance\n",
      "0  18254316610    lap_swimming   3758.693115    2880.360107\n",
      "1  18227215988   trail_running  44328.996094  100484.062500\n",
      "2  18218061573         running   1937.411987    5762.129883\n",
      "3  18208135270  indoor_cycling   4502.692871   37764.968750\n",
      "4  18201251695         running   5102.536133   14446.169922\n",
      "5  18191876024  indoor_cycling   4520.369141   38725.921875\n",
      "6  18173495244   trail_running   7525.059082   21143.740234\n",
      "7  18164335317  indoor_cycling   2826.054932   23601.890625\n",
      "8  18155081174   trail_running   7835.653809   21259.990234\n",
      "9  18147054258         running   2702.093994    8125.640137\n"
     ]
    }
   ],
   "source": [
    "# Look at the activities written to the activities table\n",
    "import psycopg2\n",
    "import pandas as pd\n",
    "\n",
    "db_params = {\n",
    "    \"dbname\": os.getenv('DB_NAME'),\n",
    "    \"user\": os.getenv('DB_USER'),\n",
    "    \"password\": os.getenv('DB_PASSWORD'),\n",
    "    \"host\": os.getenv('DB_HOST'),\n",
    "    \"port\": os.getenv('DB_PORT')\n",
    "}\n",
    "\n",
    "conn = psycopg2.connect(**db_params)\n",
    "cursor = conn.cursor()\n",
    "\n",
    "query = \"SELECT activity_id, activity_type, duration, distance FROM activities LIMIT 10;\"\n",
    "cursor.execute(query)\n",
    "\n",
    "rows = cursor.fetchall()\n",
    "colnames = [desc[0] for desc in cursor.description]\n",
    "\n",
    "activities_df = pd.DataFrame(rows, columns=colnames)\n",
    "print(activities_df)"
   ]
  }
 ],
 "metadata": {
  "kernelspec": {
   "display_name": ".venv",
   "language": "python",
   "name": "python3"
  },
  "language_info": {
   "codemirror_mode": {
    "name": "ipython",
    "version": 3
   },
   "file_extension": ".py",
   "mimetype": "text/x-python",
   "name": "python",
   "nbconvert_exporter": "python",
   "pygments_lexer": "ipython3",
   "version": "3.9.6"
  }
 },
 "nbformat": 4,
 "nbformat_minor": 2
}
