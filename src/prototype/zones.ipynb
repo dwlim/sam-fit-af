{
 "cells": [
  {
   "cell_type": "code",
   "execution_count": 1,
   "metadata": {},
   "outputs": [],
   "source": [
    "import os\n",
    "os.chdir('/Users/ericchuu/fit-af/src')"
   ]
  },
  {
   "cell_type": "markdown",
   "metadata": {},
   "source": [
    "Given the following JSON data, calculate the VDOT and pace zones for the user."
   ]
  },
  {
   "cell_type": "code",
   "execution_count": 2,
   "metadata": {},
   "outputs": [],
   "source": [
    "import json\n",
    "# JSON string containing user input data\n",
    "json_string = '''\n",
    "{\n",
    "  \"sex\": \"male\",\n",
    "  \"age\": 28,\n",
    "  \"goal_event\": {\n",
    "    \"event\": 5000,\n",
    "    \"goal_time\": {\n",
    "      \"hours\": 0,\n",
    "      \"minutes\": 20,\n",
    "      \"seconds\": 0\n",
    "    }\n",
    "  },\n",
    "  \"timeline_weeks\": 2,\n",
    "  \"recent_time_trial\": {\n",
    "    \"event\": 5000,\n",
    "    \"hours\": 0,\n",
    "    \"minutes\": 25,\n",
    "    \"seconds\": 0\n",
    "  },\n",
    "  \"training_days_per_week\": 3\n",
    "}\n",
    "'''"
   ]
  },
  {
   "cell_type": "code",
   "execution_count": 4,
   "metadata": {},
   "outputs": [],
   "source": [
    "from utils.pace_zones import calculate_zones_from_json\n",
    "user_prompt_json = json.loads(json_string)\n",
    "context = calculate_zones_from_json(user_prompt_json)"
   ]
  },
  {
   "cell_type": "code",
   "execution_count": 5,
   "metadata": {},
   "outputs": [
    {
     "name": "stdout",
     "output_type": "stream",
     "text": [
      "VDOT: 38.30936290766015 \n",
      "\n",
      "Pace Zones in min/km:\n",
      "Easy: ['6:03', '7:13']\n",
      "Marathon: ['5:28', '5:59']\n",
      "Threshold: ['5:16', '5:31']\n",
      "Interval: ['4:45', '4:57']\n",
      "Repetition: ['4:06', '4:34']\n",
      "\n",
      "Pace Zones in m/min:\n",
      "Easy: [165.20780314515483, 138.33363386753842]\n",
      "Marathon: [182.74509860072726, 166.97479950387807]\n",
      "Threshold: [189.67922961993008, 181.00445981526437]\n",
      "Interval: [210.2161193730918, 201.70663269227848]\n",
      "Repetition: [243.60763489635372, 218.65947290366609]\n",
      "\n",
      "Time trial pace: in min/km: 5:00\n",
      "\n",
      "Goal event pace: in min/km: 4:00\n"
     ]
    }
   ],
   "source": [
    "print(f\"VDOT: {context['vdot']} \\n\")\n",
    "print(\"Pace Zones in min/km:\")\n",
    "for zone, pace_range in context['formatted_pace_zones'].items():\n",
    "    print(f\"{zone.capitalize()}: {pace_range}\")\n",
    "\n",
    "print(\"\\nPace Zones in m/min:\")\n",
    "for zone, pace_range in context['pace_zones_speeds'].items():\n",
    "    print(f\"{zone.capitalize()}: {pace_range}\")\n",
    "\n",
    "print(f\"\\nTime trial pace: in min/km: {context['time_trial_pace']}\")\n",
    "\n",
    "print(f\"\\nGoal event pace: in min/km: {context['goal_event_pace']}\")"
   ]
  },
  {
   "cell_type": "markdown",
   "metadata": {},
   "source": [
    "This is called at the top level of the API to be used as additional context in the prompt:"
   ]
  },
  {
   "cell_type": "code",
   "execution_count": 6,
   "metadata": {},
   "outputs": [
    {
     "name": "stdout",
     "output_type": "stream",
     "text": [
      "- Estimated VO2max: 38.31. \n",
      "- Pace zones in minutes per kilometer:\n",
      "{\n",
      "    \"Easy\": [\n",
      "        \"6:03\",\n",
      "        \"7:13\"\n",
      "    ],\n",
      "    \"Marathon\": [\n",
      "        \"5:28\",\n",
      "        \"5:59\"\n",
      "    ],\n",
      "    \"Threshold\": [\n",
      "        \"5:16\",\n",
      "        \"5:31\"\n",
      "    ],\n",
      "    \"Interval\": [\n",
      "        \"4:45\",\n",
      "        \"4:57\"\n",
      "    ],\n",
      "    \"Repetition\": [\n",
      "        \"4:06\",\n",
      "        \"4:34\"\n",
      "    ]\n",
      "}\n",
      "- Speed zones in meters per minute:\n",
      "{\n",
      "    \"Easy\": [\n",
      "        165.20780314515483,\n",
      "        138.33363386753842\n",
      "    ],\n",
      "    \"Marathon\": [\n",
      "        182.74509860072726,\n",
      "        166.97479950387807\n",
      "    ],\n",
      "    \"Threshold\": [\n",
      "        189.67922961993008,\n",
      "        181.00445981526437\n",
      "    ],\n",
      "    \"Interval\": [\n",
      "        210.2161193730918,\n",
      "        201.70663269227848\n",
      "    ],\n",
      "    \"Repetition\": [\n",
      "        243.60763489635372,\n",
      "        218.65947290366609\n",
      "    ]\n",
      "}\n",
      "- Recent time trial pace: 5:00 min/km for 5000 meters.\n",
      "- Goal event pace: 4:00 min/km for 5000 meters.\n"
     ]
    }
   ],
   "source": [
    "from api_factory import create_api\n",
    "api = create_api()\n",
    "print(api._prepare_zone_context(json_string))"
   ]
  }
 ],
 "metadata": {
  "kernelspec": {
   "display_name": ".venv",
   "language": "python",
   "name": "python3"
  },
  "language_info": {
   "codemirror_mode": {
    "name": "ipython",
    "version": 3
   },
   "file_extension": ".py",
   "mimetype": "text/x-python",
   "name": "python",
   "nbconvert_exporter": "python",
   "pygments_lexer": "ipython3",
   "version": "3.9.6"
  }
 },
 "nbformat": 4,
 "nbformat_minor": 2
}
